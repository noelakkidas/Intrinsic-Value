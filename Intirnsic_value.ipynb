{
  "nbformat": 4,
  "nbformat_minor": 0,
  "metadata": {
    "colab": {
      "name": "Intirnsic  value",
      "provenance": [],
      "toc_visible": true,
      "authorship_tag": "ABX9TyPtuoRv9UVg4UUrzzu3o4A/",
      "include_colab_link": true
    },
    "kernelspec": {
      "name": "python3",
      "display_name": "Python 3"
    },
    "language_info": {
      "name": "python"
    }
  },
  "cells": [
    {
      "cell_type": "markdown",
      "metadata": {
        "id": "view-in-github",
        "colab_type": "text"
      },
      "source": [
        "<a href=\"https://colab.research.google.com/github/noelakkidas/Intrinsic-Value/blob/main/Intirnsic_value.ipynb\" target=\"_parent\"><img src=\"https://colab.research.google.com/assets/colab-badge.svg\" alt=\"Open In Colab\"/></a>"
      ]
    },
    {
      "cell_type": "code",
      "execution_count": 50,
      "metadata": {
        "id": "Um022fMn8L1n"
      },
      "outputs": [],
      "source": [
        "\n",
        "class Company:\n",
        "    def __init__(self,name,cash_OA,cash_IA,cash_FA,capital,total_current_liabilities,total_noncurrent_liabilities,assets,shares):\n",
        "        self.name = name\n",
        "        self.cash_OA = cash_OA\n",
        "        self.cash_IA = cash_IA\n",
        "        self.cash_FA = cash_FA\n",
        "        self.total_current_liabilities = total_current_liabilities\n",
        "        self.total_noncurrent_liabilities = total_noncurrent_liabilities\n",
        "        self.capital = capital\n",
        "        self.assets = assets\n",
        "        self.shares = shares\n",
        "\n",
        "    def net_cashFlow(self):\n",
        "      return self.cash_FA + self.cash_IA + self.cash_OA\n",
        "    def capital_expenditure(self):\n",
        "      return self.capital\n",
        "    def free_cashFlow(self):\n",
        "      cash_flow = []\n",
        "      freecashflow = 0\n",
        "      for i in range(5):\n",
        "        cash_flow.append(self.cash_OA[i] - (self.capital[i]))\n",
        "      for i in range(len(cash_flow)):\n",
        "        freecashflow += cash_flow[i]\n",
        "      return freecashflow\n",
        "    def total_liabilities(self):\n",
        "      return self.total_current_liabilities + self.total_noncurrent_liabilities\n",
        "    def total_assets(self):\n",
        "      return assets\n",
        "    def net_debt(self):\n",
        "      return self.total_assets() - self.total_liabilities()\n",
        "    def total_outstanding_shares(self):\n",
        "      return shares\n",
        "    def future_value(self):\n",
        "      FV = []\n",
        "      for i in range(10):\n",
        "        if i <= 5:\n",
        "          FV.append(float(self.free_cashFlow())*(1.0+0.18)**float(i))\n",
        "        else:\n",
        "          FV.append(float(self.free_cashFlow())*(1.0+0.1)**float(i))\n",
        "      return FV\n",
        "    def NetPresent_value(self):\n",
        "      PV = []\n",
        "      NPV = 0\n",
        "      for i in range(10):\n",
        "        PV.append(float(self.future_value()[i])/(1.0+0.9)**float(i))\n",
        "      for i in range(len(PV)):\n",
        "        NPV += PV[i]\n",
        "      return NPV\n",
        "    def TerminalValue(self):\n",
        "      TV = float(self.future_value()[-1])*(1.0+0.035)/(0.09-0.035)\n",
        "      return TV*(1.0+0.09)**10\n",
        "    def PresentValue(self):\n",
        "      return self.TerminalValue() + self.NetPresent_value()\n",
        "    def TotalPV(self):\n",
        "      return self.PresentValue() - self.net_debt()\n",
        "    def Intrinsicvalue(self):\n",
        "      values = {}\n",
        "      intrinsic = self.TotalPV()/self.total_outstanding_shares()\n",
        "      values['Intrinsic Value'] = intrinsic\n",
        "      values['Upper Limit'] = intrinsic+ 0.1*intrinsic\n",
        "      values['Lower Limit'] = intrinsic - 0.1*intrinsic\n",
        "      values['Margin of Safety'] = intrinsic - 0.3*intrinsic\n",
        "      values['Range'] = (intrinsic+ 0.1*intrinsic,intrinsic - 0.1*intrinsic)\n",
        "      return values\n",
        "\n",
        "    \n",
        "\n",
        "\n",
        "\n",
        "\n"
      ]
    },
    {
      "cell_type": "code",
      "source": [
        "\n",
        "print(\"Please Enter the name of company\")\n",
        "name = str(input())\n",
        "print(f\"Please Enter the Net Operating cash of past 5 years of {name}.\")\n",
        "OA_cash5Years  = []\n",
        "for i in range(5):\n",
        "    OA_cash5Years.append(float(input()))\n",
        "print(f\"Please Enter the Net Investing activities cash of past 5 years of {name}.\")\n",
        "IA_cash5Years  = []\n",
        "for i in range(5):\n",
        "    IA_cash5Years.append(float(input()))\n",
        "print(f\"Please Enter the Net Financal activities cash flow of past 5 years of {name}.\")\n",
        "FA_cash5Years  = []\n",
        "for i in range(5):\n",
        "    FA_cash5Years.append(float(input()))\n",
        "print(\"Enter the Capital Expenditure. \")\n",
        "capital = []\n",
        "for i in range(5):\n",
        "  capital.append(float(input()))\n",
        "print(\"Enter total_current_liabilities.\")\n",
        "total_current_liabilities = float12--312(input())\n",
        "print(\"ENTER TOTAL NON CURRENT LIABILITIES.\")\n",
        "total_noncurrent_liabilities = float(input())\n",
        "print(\"ENTER TOTAL ASSETS. \")\n",
        "assets = float(input())\n",
        "print(\"ENTER TOTAL NUMBER OF OUTSTANDING SHARES.\")\n",
        "shares = float(input())\n",
        "company = Company(name,OA_cash5Years,IA_cash5Years,FA_cash5Years,capital,total_current_liabilities,total_noncurrent_liabilities,assets,shares)\n",
        "\n",
        "print(company.Intrinsicvalue())"
      ],
      "metadata": {
        "colab": {
          "base_uri": "https://localhost:8080/",
          "height": 703
        },
        "id": "50X5wsqj8VAv",
        "outputId": "35e4d41b-3563-4d4e-ea82-31b637a0286d"
      },
      "execution_count": 52,
      "outputs": [
        {
          "output_type": "stream",
          "name": "stdout",
          "text": [
            "Please Enter the name of company\n",
            "PTC\n",
            "Please Enter the Net Operating cash of past 5 years of PTC.\n",
            "2108.12\n",
            "3293.52\n",
            "-107.96\n",
            "-1437.59\n",
            "111.22\n",
            "Please Enter the Net Investing activities cash of past 5 years of PTC.\n",
            "-504.86\n",
            "-413.87\n",
            "244.3\n",
            "249.16\n",
            "-1373.94\n",
            "Please Enter the Net Financal activities cash flow of past 5 years of PTC.\n",
            "-1085.19\n",
            "-2570.45\n",
            "-407.92\n",
            "1277.56\n",
            "1353.4\n",
            "Enter the Capital Expenditure. \n",
            "-3.67\n",
            "2\n",
            "-2.18\n",
            "-303.52\n",
            "-1477.06\n",
            "Enter total_current_liabilities.\n"
          ]
        },
        {
          "output_type": "error",
          "ename": "NameError",
          "evalue": "ignored",
          "traceback": [
            "\u001b[0;31m---------------------------------------------------------------------------\u001b[0m",
            "\u001b[0;31mNameError\u001b[0m                                 Traceback (most recent call last)",
            "\u001b[0;32m<ipython-input-52-4ab885788d46>\u001b[0m in \u001b[0;36m<module>\u001b[0;34m()\u001b[0m\n\u001b[1;32m     19\u001b[0m   \u001b[0mcapital\u001b[0m\u001b[0;34m.\u001b[0m\u001b[0mappend\u001b[0m\u001b[0;34m(\u001b[0m\u001b[0mfloat\u001b[0m\u001b[0;34m(\u001b[0m\u001b[0minput\u001b[0m\u001b[0;34m(\u001b[0m\u001b[0;34m)\u001b[0m\u001b[0;34m)\u001b[0m\u001b[0;34m)\u001b[0m\u001b[0;34m\u001b[0m\u001b[0;34m\u001b[0m\u001b[0m\n\u001b[1;32m     20\u001b[0m \u001b[0mprint\u001b[0m\u001b[0;34m(\u001b[0m\u001b[0;34m\"Enter total_current_liabilities.\"\u001b[0m\u001b[0;34m)\u001b[0m\u001b[0;34m\u001b[0m\u001b[0;34m\u001b[0m\u001b[0m\n\u001b[0;32m---> 21\u001b[0;31m \u001b[0mtotal_current_liabilities\u001b[0m \u001b[0;34m=\u001b[0m \u001b[0mfloat12\u001b[0m\u001b[0;34m(\u001b[0m\u001b[0minput\u001b[0m\u001b[0;34m(\u001b[0m\u001b[0;34m)\u001b[0m\u001b[0;34m)\u001b[0m\u001b[0;34m\u001b[0m\u001b[0;34m\u001b[0m\u001b[0m\n\u001b[0m\u001b[1;32m     22\u001b[0m \u001b[0mprint\u001b[0m\u001b[0;34m(\u001b[0m\u001b[0;34m\"ENTER TOTAL NON CURRENT LIABILITIES.\"\u001b[0m\u001b[0;34m)\u001b[0m\u001b[0;34m\u001b[0m\u001b[0;34m\u001b[0m\u001b[0m\n\u001b[1;32m     23\u001b[0m \u001b[0mtotal_noncurrent_liabilities\u001b[0m \u001b[0;34m=\u001b[0m \u001b[0mfloat\u001b[0m\u001b[0;34m(\u001b[0m\u001b[0minput\u001b[0m\u001b[0;34m(\u001b[0m\u001b[0;34m)\u001b[0m\u001b[0;34m)\u001b[0m\u001b[0;34m\u001b[0m\u001b[0;34m\u001b[0m\u001b[0m\n",
            "\u001b[0;31mNameError\u001b[0m: name 'float12' is not defined"
          ]
        }
      ]
    },
    {
      "cell_type": "code",
      "source": [
        "print(\"Please Enter the name of company\")\n",
        "name = str(input())\n",
        "print(f\"Please Enter the Net Operating cash of past 5 years of {name}.\")\n",
        "OA_cash5Years  = []\n",
        "for i in range(5):\n",
        "    OA_cash5Years.append(str(input()))\n",
        "print(f\"Please Enter the Net Investing activities cash of past 5 years of {name}.\")\n",
        "IA_cash5Years  = []\n",
        "for i in range(5):\n",
        "    IA_cash5Years.append(str(input()))\n",
        "print(f\"Please Enter the Net Financal activities cash flow of past 5 years of {name}.\")\n",
        "FA_cash5Years  = []\n",
        "for i in range(5):\n",
        "    FA_cash5Years.append(str(input()))\n",
        "company = Company(name,OA_cash5Years,IA_cash5Years,FA_cash5Years)\n",
        "print(company.printing())"
      ],
      "metadata": {
        "colab": {
          "base_uri": "https://localhost:8080/"
        },
        "id": "oGWeGFhY8VX-",
        "outputId": "91834a44-c71f-4d26-8606-499e055494e4"
      },
      "execution_count": null,
      "outputs": [
        {
          "output_type": "stream",
          "name": "stdout",
          "text": [
            "Please Enter the name of company\n",
            "PTC\n",
            "Please Enter the Net Operating cash of past 5 years of PTC.\n",
            "1\n",
            "3\n",
            "4\n",
            "2\n",
            "6\n",
            "Please Enter the Net Investing activities cash of past 5 years of PTC.\n",
            "1\n",
            "2\n",
            "3\n",
            "4\n",
            "5\n",
            "Please Enter the Net Financal activities cash flow of past 5 years of PTC.\n",
            "1\n",
            "2\n",
            "3\n",
            "4\n",
            "5\n",
            "['1', '3', '4', '2', '6']\n",
            "None\n"
          ]
        }
      ]
    }
  ]
}