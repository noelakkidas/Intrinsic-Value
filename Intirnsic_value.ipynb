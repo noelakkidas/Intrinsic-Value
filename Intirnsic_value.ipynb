{
  "nbformat": 4,
  "nbformat_minor": 0,
  "metadata": {
    "colab": {
      "name": "Intirnsic  value",
      "provenance": [],
      "toc_visible": true,
      "authorship_tag": "ABX9TyNwyE4JH8gOgwy/bm0WYFwI",
      "include_colab_link": true
    },
    "kernelspec": {
      "name": "python3",
      "display_name": "Python 3"
    },
    "language_info": {
      "name": "python"
    }
  },
  "cells": [
    {
      "cell_type": "markdown",
      "metadata": {
        "id": "view-in-github",
        "colab_type": "text"
      },
      "source": [
        "<a href=\"https://colab.research.google.com/github/noelakkidas/Intrinsic-Value/blob/main/Intirnsic_value.ipynb\" target=\"_parent\"><img src=\"https://colab.research.google.com/assets/colab-badge.svg\" alt=\"Open In Colab\"/></a>"
      ]
    },
    {
      "cell_type": "code",
      "execution_count": 50,
      "metadata": {
        "id": "Um022fMn8L1n"
      },
      "outputs": [],
      "source": [
        "\n",
        "class Company:\n",
        "    def __init__(self,name,cash_OA,cash_IA,cash_FA,capital,total_current_liabilities,total_noncurrent_liabilities,assets,shares):\n",
        "        self.name = name\n",
        "        self.cash_OA = cash_OA\n",
        "        self.cash_IA = cash_IA\n",
        "        self.cash_FA = cash_FA\n",
        "        self.total_current_liabilities = total_current_liabilities\n",
        "        self.total_noncurrent_liabilities = total_noncurrent_liabilities\n",
        "        self.capital = capital\n",
        "        self.assets = assets\n",
        "        self.shares = shares\n",
        "\n",
        "    def net_cashFlow(self):\n",
        "      return self.cash_FA + self.cash_IA + self.cash_OA\n",
        "    def capital_expenditure(self):\n",
        "      return self.capital\n",
        "    def free_cashFlow(self):\n",
        "      cash_flow = []\n",
        "      freecashflow = 0\n",
        "      for i in range(5):\n",
        "        cash_flow.append(self.cash_OA[i] - (self.capital[i]))\n",
        "      for i in range(len(cash_flow)):\n",
        "        freecashflow += cash_flow[i]\n",
        "      return freecashflow\n",
        "    def total_liabilities(self):\n",
        "      return self.total_current_liabilities + self.total_noncurrent_liabilities\n",
        "    def total_assets(self):\n",
        "      return assets\n",
        "    def net_debt(self):\n",
        "      return self.total_assets() - self.total_liabilities()\n",
        "    def total_outstanding_shares(self):\n",
        "      return shares\n",
        "    def future_value(self):\n",
        "      FV = []\n",
        "      for i in range(10):\n",
        "        if i <= 5:\n",
        "          FV.append(float(self.free_cashFlow())*(1.0+0.18)**float(i))\n",
        "        else:\n",
        "          FV.append(float(self.free_cashFlow())*(1.0+0.1)**float(i))\n",
        "      return FV\n",
        "    def NetPresent_value(self):\n",
        "      PV = []\n",
        "      NPV = 0\n",
        "      for i in range(10):\n",
        "        PV.append(float(self.future_value()[i])/(1.0+0.9)**float(i))\n",
        "      for i in range(len(PV)):\n",
        "        NPV += PV[i]\n",
        "      return NPV\n",
        "    def TerminalValue(self):\n",
        "      TV = float(self.future_value()[-1])*(1.0+0.035)/(0.09-0.035)\n",
        "      return TV*(1.0+0.09)**10\n",
        "    def PresentValue(self):\n",
        "      return self.TerminalValue() + self.NetPresent_value()\n",
        "    def TotalPV(self):\n",
        "      return self.PresentValue() - self.net_debt()\n",
        "    def Intrinsicvalue(self):\n",
        "      values = {}\n",
        "      intrinsic = self.TotalPV()/self.total_outstanding_shares()\n",
        "      values['Intrinsic Value'] = intrinsic\n",
        "      values['Upper Limit'] = intrinsic+ 0.1*intrinsic\n",
        "      values['Lower Limit'] = intrinsic - 0.1*intrinsic\n",
        "      values['Margin of Safety'] = intrinsic - 0.3*intrinsic\n",
        "      values['Range'] = (intrinsic+ 0.1*intrinsic,intrinsic - 0.1*intrinsic)\n",
        "      return values\n",
        "\n",
        "    \n",
        "\n",
        "\n",
        "\n",
        "\n"
      ]
    },
    {
      "cell_type": "code",
      "source": [
        "\n",
        "print(\"Please Enter the name of company\")\n",
        "name = str(input())\n",
        "print(f\"Please Enter the Net Operating cash of past 5 years of {name}.\")\n",
        "OA_cash5Years  = []\n",
        "for i in range(5):\n",
        "    OA_cash5Years.append(float(input()))\n",
        "print(f\"Please Enter the Net Investing activities cash of past 5 years of {name}.\")\n",
        "IA_cash5Years  = []\n",
        "for i in range(5):\n",
        "    IA_cash5Years.append(float(input()))\n",
        "print(f\"Please Enter the Net Financal activities cash flow of past 5 years of {name}.\")\n",
        "FA_cash5Years  = []\n",
        "for i in range(5):\n",
        "    FA_cash5Years.append(float(input()))\n",
        "print(\"Enter the Capital Expenditure. \")\n",
        "capital = []\n",
        "for i in range(5):\n",
        "  capital.append(float(input()))\n",
        "print(\"Enter total_current_liabilities.\")\n",
        "total_current_liabilities = float12--312(input())\n",
        "print(\"ENTER TOTAL NON CURRENT LIABILITIES.\")\n",
        "total_noncurrent_liabilities = float(input())\n",
        "print(\"ENTER TOTAL ASSETS. \")\n",
        "assets = float(input())\n",
        "print(\"ENTER TOTAL NUMBER OF OUTSTANDING SHARES.\")\n",
        "shares = float(input())\n",
        "company = Company(name,OA_cash5Years,IA_cash5Years,FA_cash5Years,capital,total_current_liabilities,total_noncurrent_liabilities,assets,shares)\n",
        "\n",
        "print(company.Intrinsicvalue())"
      ],
      "metadata": {
        "id": "50X5wsqj8VAv"
      },
      "execution_count": null,
      "outputs": []
    }
  ]
}